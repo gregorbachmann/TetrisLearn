{
 "cells": [
  {
   "cell_type": "code",
   "execution_count": 8,
   "metadata": {},
   "outputs": [
    {
     "ename": "NameError",
     "evalue": "name 'sizeX' is not defined",
     "output_type": "error",
     "traceback": [
      "\u001b[1;31m---------------------------------------------------------------------------\u001b[0m",
      "\u001b[1;31mNameError\u001b[0m                                 Traceback (most recent call last)",
      "\u001b[1;32m<ipython-input-8-1ac71a70948b>\u001b[0m in \u001b[0;36m<module>\u001b[1;34m()\u001b[0m\n\u001b[0;32m      5\u001b[0m \u001b[1;32mimport\u001b[0m \u001b[0mmatplotlib\u001b[0m\u001b[1;33m.\u001b[0m\u001b[0mpyplot\u001b[0m \u001b[1;32mas\u001b[0m \u001b[0mplt\u001b[0m\u001b[1;33m\u001b[0m\u001b[0m\n\u001b[0;32m      6\u001b[0m \u001b[1;33m\u001b[0m\u001b[0m\n\u001b[1;32m----> 7\u001b[1;33m \u001b[0mfield\u001b[0m\u001b[1;33m=\u001b[0m\u001b[0mnp\u001b[0m\u001b[1;33m.\u001b[0m\u001b[0mzeros\u001b[0m\u001b[1;33m(\u001b[0m\u001b[1;33m(\u001b[0m\u001b[0msizeX\u001b[0m\u001b[1;33m,\u001b[0m\u001b[0msizeY\u001b[0m\u001b[1;33m)\u001b[0m\u001b[1;33m)\u001b[0m\u001b[1;33m\u001b[0m\u001b[0m\n\u001b[0m",
      "\u001b[1;31mNameError\u001b[0m: name 'sizeX' is not defined"
     ]
    }
   ],
   "source": [
    "# 2018/04/25 Strichcoder: v0.2\n",
    "\n",
    "import numpy as np\n",
    "import random\n",
    "import matplotlib.pyplot as plt\n",
    "\n",
    "field=np.zeros((sizeX,sizeY))"
   ]
  },
  {
   "cell_type": "code",
   "execution_count": 9,
   "metadata": {},
   "outputs": [],
   "source": [
    "class Tetris:\n",
    "    sizeX=8\n",
    "    sizeY=8\n",
    "    block=Block(0)\n",
    "    # TODO: block_preview\n",
    "    field=np.zeros((sizeX,sizeY))\n",
    "    \n",
    "    def __init__(self,sizeX=8,sizeY=8):\n",
    "        self.sizeX=sizeX\n",
    "        self.sizeY=sizeY\n",
    "        self.field=np.zeros((sizeX,sizeY))\n",
    "    \n",
    "    # ------------------------- Game Logic ---------------------------------------\n",
    "    \n",
    "    # A new block is generated at the top of the field\n",
    "    # Returns False, if it could not generate a block because of collision\n",
    "    # TODO: if collision, place the block somewhere else at the top\n",
    "    def next_block(self):\n",
    "        s=random.randint(0,6)\n",
    "        r=random.randint(0,3)\n",
    "        self.block=Block(shape=s,rotation=r,posX=self.sizeX/2)\n",
    "        if self.collides():\n",
    "            self.block=None\n",
    "            print('YOU LOST, could not generate any more blocks')\n",
    "            return False\n",
    "        else:\n",
    "            return True\n",
    "    \n",
    "    # Requirements: move in {-1,0,1}, rotate in {-3,-2,-1,0,1,2,3}\n",
    "    # first moves (if possible) then rotates (if possible)\n",
    "    def interact(self,move=0,rotate=0): \n",
    "        self.block.posX+=move\n",
    "        if self.collides():\n",
    "            self.block.posX-=move\n",
    "        self.block.rotation+=rotate\n",
    "        self.block.rotation+=8\n",
    "        self.block.rotation%=4\n",
    "        if self.collides():\n",
    "            self.block.rotation-=rotate\n",
    "            self.block.rotation+=4\n",
    "            self.block.rotation%=4\n",
    "        \n",
    "        \n",
    "    # Tries to gravitate. \n",
    "    # Returns False, if it cannot gravitate. Then it permantently places the block in the field (place means field -= picture)\n",
    "    #                then a new block is generated using next_block() and full rows are deleted.\n",
    "    # Returns True, if it gravitates successfully (without colliding)\n",
    "    def physics(self):\n",
    "        self.block.posY+=1\n",
    "        if self.collides():\n",
    "            self.block.posY-=1\n",
    "            picture=self.block.get_picture()\n",
    "            offset=self.block.get_offset()\n",
    "            x0=int(self.block.posX)-offset[0]\n",
    "            y0=int(self.block.posY)-offset[1]\n",
    "            self.field[x0:x0+picture.shape[0],y0:y0+picture.shape[1]]-=picture\n",
    "            self.next_block()\n",
    "            self.tidy()\n",
    "            return False\n",
    "        else:\n",
    "            return True\n",
    "        \n",
    "    # full rows get delted\n",
    "    # TODO: give points for it\n",
    "    def tidy(self):\n",
    "        for y in range(self.field.shape[1]):\n",
    "            full=True\n",
    "            for x in range(self.field.shape[0]):\n",
    "                if not self.field[x,y]==-1:\n",
    "                    full=False\n",
    "            if full:\n",
    "                print('totally full')\n",
    "                self.field=np.delete(self.field,y,axis=1)\n",
    "                self.field=np.insert(self.field,0,0,axis=1)\n",
    "    \n",
    "    # returns True, if picture.shape does not fit in the field\n",
    "    # returns True, if the block overlaps a -1 in the field\n",
    "    def collides(self):\n",
    "        picture=self.block.get_picture()\n",
    "        offset=self.block.get_offset()\n",
    "        x0=int(self.block.posX)-offset[0]\n",
    "        y0=int(self.block.posY)-offset[1]\n",
    "        if x0<0 or y0<0 or x0+picture.shape[0] > self.field.shape[0] \\\n",
    "                        or y0+picture.shape[1] > self.field.shape[1]:\n",
    "            return True\n",
    "        else: # the picture is well defined\n",
    "            for x in range(picture.shape[0]):\n",
    "                for y in range(picture.shape[1]):\n",
    "                    if picture[x,y]==1 and self.field[x0+x,y0+y]==-1:\n",
    "                        return True\n",
    "        return False\n",
    "    \n",
    "    # ----------------------------- Graphics ------------------------------------\n",
    "    \n",
    "    # returns a playing field with the block added (no collision detecting)\n",
    "    # this may be used as input for the neural net.\n",
    "    def project(self):\n",
    "        picture=self.block.get_picture()\n",
    "        offset=self.block.get_offset()\n",
    "        x0=int(self.block.posX)-offset[0] # this is the coordinate in field where picture will be drawn\n",
    "        y0=int(self.block.posY)-offset[1]\n",
    "        print_field=np.copy(self.field)\n",
    "        print_field[x0:x0+picture.shape[0],y0:y0+picture.shape[1]]+=picture\n",
    "        return print_field\n",
    "        \n",
    "    # draws a nice picture :)\n",
    "    def draw(self):\n",
    "        plt.matshow(self.project().transpose())\n",
    "        plt.show()\n",
    "      "
   ]
  },
  {
   "cell_type": "code",
   "execution_count": 10,
   "metadata": {},
   "outputs": [],
   "source": [
    "class Block:\n",
    "    posX=0 # position of the 'center of rotation', to draw stuff, consider get_offset() too, \n",
    "    posY=0\n",
    "    rotation=0 # 0, 1, 2, 3 mathematical rotation-direction\n",
    "    shape=0 # 0 = square, 1 = bar, 2 = L, 3 = L', 4 = S, 5 = S', 6 = T\n",
    "    \n",
    "    def __init__(self,shape,rotation=0,posX=None,posY=None):\n",
    "        self.shape=shape\n",
    "        self.rotation = rotation\n",
    "        if posX==None:\n",
    "            self.posX=2\n",
    "        else:\n",
    "            self.posX=posX\n",
    "        if posY==None: \n",
    "            self.posY=self.get_offset()[1] # position it at the top\n",
    "        else:\n",
    "            self.posY=posY\n",
    "    \n",
    "    # picture should have size exactly convex square hull.\n",
    "    def get_picture(self):\n",
    "        if self.shape==0: # square\n",
    "            A=np.ones((2,2))\n",
    "        if self.shape==1: # bar\n",
    "            if self.rotation == 0 or self.rotation == 2:\n",
    "                A=np.ones((1,4))\n",
    "            if self.rotation == 1 or self.rotation == 3:\n",
    "                A=np.ones((4,1))\n",
    "        if self.shape==2: # L\n",
    "            if self.rotation == 0: # I_ = L\n",
    "                A=np.zeros((2,3))\n",
    "                A[0,0]=1\n",
    "                A[0,1]=1\n",
    "                A[0,2]=1\n",
    "                A[1,2]=1\n",
    "            if self.rotation == 1: # __I\n",
    "                A=np.zeros((3,2))\n",
    "                A[0,1]=1\n",
    "                A[1,1]=1\n",
    "                A[2,0]=1\n",
    "                A[2,1]=1\n",
    "            if self.rotation == 2: # ^I\n",
    "                A=np.zeros((2,3))\n",
    "                A[0,0]=1\n",
    "                A[1,0]=1\n",
    "                A[1,1]=1\n",
    "                A[1,2]=1\n",
    "            if self.rotation == 3: # I^^\n",
    "                A=np.zeros((3,2))\n",
    "                A[0,0]=1\n",
    "                A[0,1]=1\n",
    "                A[1,0]=1\n",
    "                A[2,0]=1\n",
    "        if self.shape==3: # L' \n",
    "            if self.rotation == 0: # _I\n",
    "                A=np.zeros((2,3))\n",
    "                A[1,0]=1\n",
    "                A[1,1]=1\n",
    "                A[1,2]=1\n",
    "                A[0,2]=1\n",
    "            if self.rotation == 1: # ^^I\n",
    "                A=np.zeros((3,2))\n",
    "                A[0,0]=1\n",
    "                A[1,0]=1\n",
    "                A[2,0]=1\n",
    "                A[2,1]=1\n",
    "            if self.rotation == 2: # I^\n",
    "                A=np.zeros((2,3))\n",
    "                A[0,0]=1\n",
    "                A[1,0]=1\n",
    "                A[0,1]=1\n",
    "                A[0,2]=1\n",
    "            if self.rotation == 3: # I__\n",
    "                A=np.zeros((3,2))\n",
    "                A[0,0]=1\n",
    "                A[0,1]=1\n",
    "                A[1,1]=1\n",
    "                A[2,1]=1\n",
    "        if self.shape==4: # S\n",
    "            if self.rotation == 0 or self.rotation == 2: \n",
    "                #  XX\n",
    "                # XX \n",
    "                A=np.zeros((3,2))\n",
    "                A[1,0]=1\n",
    "                A[2,0]=1\n",
    "                A[0,1]=1\n",
    "                A[1,1]=1\n",
    "            if self.rotation == 1 or self.rotation == 3: \n",
    "                # X\n",
    "                # XX\n",
    "                #  X\n",
    "                A=np.zeros((2,3))\n",
    "                A[0,0]=1\n",
    "                A[0,1]=1\n",
    "                A[1,1]=1\n",
    "                A[1,2]=1\n",
    "        if self.shape==5: # S'\n",
    "            if self.rotation == 0 or self.rotation == 2: \n",
    "                # XX\n",
    "                #  XX \n",
    "                A=np.zeros((3,2))\n",
    "                A[0,0]=1\n",
    "                A[1,0]=1\n",
    "                A[1,1]=1\n",
    "                A[2,1]=1\n",
    "            if self.rotation == 1 or self.rotation == 3: \n",
    "                #  X\n",
    "                # XX\n",
    "                # X\n",
    "                A=np.zeros((2,3))\n",
    "                A[1,0]=1\n",
    "                A[0,1]=1\n",
    "                A[1,1]=1\n",
    "                A[0,2]=1   \n",
    "        if self.shape==6: # T\n",
    "            if self.rotation == 0: # T\n",
    "                A=np.zeros((3,2))\n",
    "                A[0,0]=1\n",
    "                A[1,0]=1\n",
    "                A[2,0]=1\n",
    "                A[1,1]=1\n",
    "            if self.rotation == 1: # I-\n",
    "                A=np.zeros((2,3))\n",
    "                A[0,0]=1\n",
    "                A[0,1]=1\n",
    "                A[0,2]=1\n",
    "                A[1,1]=1\n",
    "            if self.rotation == 2: # _I_\n",
    "                A=np.zeros((3,2))\n",
    "                A[1,0]=1\n",
    "                A[0,1]=1\n",
    "                A[1,1]=1\n",
    "                A[2,1]=1\n",
    "            if self.rotation == 3: # -I\n",
    "                A=np.zeros((2,3))\n",
    "                A[0,1]=1\n",
    "                A[1,0]=1\n",
    "                A[1,1]=1\n",
    "                A[1,2]=1\n",
    "        return A\n",
    "        \n",
    "    def get_offset(self):\n",
    "        if self.shape==0: # square\n",
    "            return [0,0]\n",
    "        if self.shape==1: # I\n",
    "            if self.rotation == 0:\n",
    "                return [0,1]\n",
    "            if self.rotation == 1:\n",
    "                return [1,0]\n",
    "            if self.rotation == 2:\n",
    "                return [0,2]\n",
    "            if self.rotation == 3:\n",
    "                return [2,0]\n",
    "        if self.shape==2: # L\n",
    "            if self.rotation == 0: # I_ = L\n",
    "                return [0,2]\n",
    "            if self.rotation == 1: # __I\n",
    "                return [2,1]\n",
    "            if self.rotation == 2: # ^I\n",
    "                return [1,0]\n",
    "            if self.rotation == 3: # I^^\n",
    "                return [0,0]\n",
    "        if self.shape==3: # L'\n",
    "            if self.rotation == 0: # _I = L'\n",
    "                return [1,2]\n",
    "            if self.rotation == 1: # ^^I\n",
    "                return [2,0]\n",
    "            if self.rotation == 2: # I^\n",
    "                return [0,0]\n",
    "            if self.rotation == 3: # I__\n",
    "                return [0,1]\n",
    "        if self.shape == 4: # S\n",
    "            if self.rotation == 0:\n",
    "                return [1,1]\n",
    "            if self.rotation == 1:\n",
    "                return [1,1]\n",
    "            if self.rotation == 2:\n",
    "                return [1,0]\n",
    "            if self.rotation == 3:\n",
    "                return [0,1]\n",
    "        if self.shape == 5: # S'\n",
    "            if self.rotation == 0:\n",
    "                return [1,1]\n",
    "            if self.rotation == 1:\n",
    "                return [1,1]\n",
    "            if self.rotation == 2:\n",
    "                return [1,0]\n",
    "            if self.rotation == 3:\n",
    "                return [0,1]\n",
    "        if self.shape == 6: # T\n",
    "            if self.rotation == 0: #T\n",
    "                return [1,0]\n",
    "            if self.rotation == 1: # I-\n",
    "                return [0,1]\n",
    "            if self.rotation == 2: # _I_\n",
    "                return [1,1]\n",
    "            if self.rotation == 3: # -I\n",
    "                return [1,1]\n",
    "\n",
    "    "
   ]
  },
  {
   "cell_type": "code",
   "execution_count": 11,
   "metadata": {},
   "outputs": [
    {
     "data": {
      "image/png": "[encoded data removed]",
      "text/plain": [
       "<Figure size 288x288 with 1 Axes>"
      ]
     },
     "metadata": {},
     "output_type": "display_data"
    }
   ],
   "source": [
    "t=Tetris()\n",
    "t.next_block()\n",
    "t.project()\n",
    "t.draw()"
   ]
  },
  {
   "cell_type": "code",
   "execution_count": 12,
   "metadata": {},
   "outputs": [
    {
     "data": {
      "image/png": "[encoded data removed]",
      "text/plain": [
       "<Figure size 288x288 with 1 Axes>"
      ]
     },
     "metadata": {},
     "output_type": "display_data"
    }
   ],
   "source": [
    "t.interact(move=0,rotate=0)\n",
    "t.physics()\n",
    "t.project()\n",
    "t.draw()"
   ]
  },
  {
   "cell_type": "code",
   "execution_count": 21,
   "metadata": {},
   "outputs": [
    {
     "name": "stdout",
     "output_type": "stream",
     "text": [
      "Shape: 0 Rotation: 0\n"
     ]
    },
    {
     "data": {
      "image/png": "[encoded data removed]",
      "text/plain": [
       "<Figure size 288x288 with 1 Axes>"
      ]
     },
     "metadata": {},
     "output_type": "display_data"
    },
    {
     "name": "stdout",
     "output_type": "stream",
     "text": [
      "Shape: 0 Rotation: 1\n"
     ]
    },
    {
     "data": {
      "image/png": "[encoded data removed]",
      "text/plain": [
       "<Figure size 288x288 with 1 Axes>"
      ]
     },
     "metadata": {},
     "output_type": "display_data"
    },
    {
     "name": "stdout",
     "output_type": "stream",
     "text": [
      "Shape: 0 Rotation: 2\n"
     ]
    },
    {
     "data": {
      "image/png": "[encoded data removed]",
      "text/plain": [
       "<Figure size 288x288 with 1 Axes>"
      ]
     },
     "metadata": {},
     "output_type": "display_data"
    },
    {
     "name": "stdout",
     "output_type": "stream",
     "text": [
      "Shape: 0 Rotation: 3\n"
     ]
    },
    {
     "data": {
      "image/png": "[encoded data removed]",
      "text/plain": [
       "<Figure size 288x288 with 1 Axes>"
      ]
     },
     "metadata": {},
     "output_type": "display_data"
    },
    {
     "name": "stdout",
     "output_type": "stream",
     "text": [
      "Shape: 1 Rotation: 0\n"
     ]
    },
    {
     "data": {
      "image/png": "[encoded data removed]",
      "text/plain": [
       "<Figure size 288x288 with 1 Axes>"
      ]
     },
     "metadata": {},
     "output_type": "display_data"
    },
    {
     "name": "stdout",
     "output_type": "stream",
     "text": [
      "Shape: 1 Rotation: 1\n"
     ]
    },
    {
     "data": {
      "image/png": "[encoded data removed]",
      "text/plain": [
       "<Figure size 288x288 with 1 Axes>"
      ]
     },
     "metadata": {},
     "output_type": "display_data"
    },
    {
     "name": "stdout",
     "output_type": "stream",
     "text": [
      "Shape: 1 Rotation: 2\n"
     ]
    },
    {
     "data": {
      "image/png": "[encoded data removed]",
      "text/plain": [
       "<Figure size 288x288 with 1 Axes>"
      ]
     },
     "metadata": {},
     "output_type": "display_data"
    },
    {
     "name": "stdout",
     "output_type": "stream",
     "text": [
      "Shape: 1 Rotation: 3\n"
     ]
    },
    {
     "data": {
      "image/png": "[encoded data removed]",
      "text/plain": [
       "<Figure size 288x288 with 1 Axes>"
      ]
     },
     "metadata": {},
     "output_type": "display_data"
    },
    {
     "name": "stdout",
     "output_type": "stream",
     "text": [
      "Shape: 2 Rotation: 0\n"
     ]
    },
    {
     "data": {
      "image/png": "[encoded data removed]",
      "text/plain": [
       "<Figure size 288x288 with 1 Axes>"
      ]
     },
     "metadata": {},
     "output_type": "display_data"
    },
    {
     "name": "stdout",
     "output_type": "stream",
     "text": [
      "Shape: 2 Rotation: 1\n"
     ]
    },
    {
     "data": {
      "image/png": "[encoded data removed]",
      "text/plain": [
       "<Figure size 288x288 with 1 Axes>"
      ]
     },
     "metadata": {},
     "output_type": "display_data"
    },
    {
     "name": "stdout",
     "output_type": "stream",
     "text": [
      "Shape: 2 Rotation: 2\n"
     ]
    },
    {
     "data": {
      "image/png": "[encoded data removed]",
      "text/plain": [
       "<Figure size 288x288 with 1 Axes>"
      ]
     },
     "metadata": {},
     "output_type": "display_data"
    },
    {
     "name": "stdout",
     "output_type": "stream",
     "text": [
      "Shape: 2 Rotation: 3\n"
     ]
    },
    {
     "data": {
      "image/png": "[encoded data removed]",
      "text/plain": [
       "<Figure size 288x288 with 1 Axes>"
      ]
     },
     "metadata": {},
     "output_type": "display_data"
    },
    {
     "name": "stdout",
     "output_type": "stream",
     "text": [
      "Shape: 3 Rotation: 0\n"
     ]
    },
    {
     "data": {
      "image/png": "[encoded data removed]",
      "text/plain": [
       "<Figure size 288x288 with 1 Axes>"
      ]
     },
     "metadata": {},
     "output_type": "display_data"
    },
    {
     "name": "stdout",
     "output_type": "stream",
     "text": [
      "Shape: 3 Rotation: 1\n"
     ]
    },
    {
     "data": {
      "image/png": "[encoded data removed]",
      "text/plain": [
       "<Figure size 288x288 with 1 Axes>"
      ]
     },
     "metadata": {},
     "output_type": "display_data"
    },
    {
     "name": "stdout",
     "output_type": "stream",
     "text": [
      "Shape: 3 Rotation: 2\n"
     ]
    },
    {
     "data": {
      "image/png": "[encoded data removed]",
      "text/plain": [
       "<Figure size 288x288 with 1 Axes>"
      ]
     },
     "metadata": {},
     "output_type": "display_data"
    },
    {
     "name": "stdout",
     "output_type": "stream",
     "text": [
      "Shape: 3 Rotation: 3\n"
     ]
    },
    {
     "data": {
      "image/png": "[encoded data removed]",
      "text/plain": [
       "<Figure size 288x288 with 1 Axes>"
      ]
     },
     "metadata": {},
     "output_type": "display_data"
    },
    {
     "name": "stdout",
     "output_type": "stream",
     "text": [
      "Shape: 4 Rotation: 0\n"
     ]
    },
    {
     "data": {
      "image/png": "[encoded data removed]",
      "text/plain": [
       "<Figure size 288x288 with 1 Axes>"
      ]
     },
     "metadata": {},
     "output_type": "display_data"
    },
    {
     "name": "stdout",
     "output_type": "stream",
     "text": [
      "Shape: 4 Rotation: 1\n"
     ]
    },
    {
     "data": {
      "image/png": "[encoded data removed]",
      "text/plain": [
       "<Figure size 288x288 with 1 Axes>"
      ]
     },
     "metadata": {},
     "output_type": "display_data"
    },
    {
     "name": "stdout",
     "output_type": "stream",
     "text": [
      "Shape: 4 Rotation: 2\n"
     ]
    },
    {
     "data": {
      "image/png": "[encoded data removed]",
      "text/plain": [
       "<Figure size 288x288 with 1 Axes>"
      ]
     },
     "metadata": {},
     "output_type": "display_data"
    },
    {
     "name": "stdout",
     "output_type": "stream",
     "text": [
      "Shape: 4 Rotation: 3\n"
     ]
    },
    {
     "data": {
      "image/png": "[encoded data removed]",
      "text/plain": [
       "<Figure size 288x288 with 1 Axes>"
      ]
     },
     "metadata": {},
     "output_type": "display_data"
    },
    {
     "name": "stdout",
     "output_type": "stream",
     "text": [
      "Shape: 5 Rotation: 0\n"
     ]
    },
    {
     "data": {
      "image/png": "[encoded data removed]",
      "text/plain": [
       "<Figure size 288x288 with 1 Axes>"
      ]
     },
     "metadata": {},
     "output_type": "display_data"
    },
    {
     "name": "stdout",
     "output_type": "stream",
     "text": [
      "Shape: 5 Rotation: 1\n"
     ]
    },
    {
     "data": {
      "image/png": "[encoded data removed]",
      "text/plain": [
       "<Figure size 288x288 with 1 Axes>"
      ]
     },
     "metadata": {},
     "output_type": "display_data"
    },
    {
     "name": "stdout",
     "output_type": "stream",
     "text": [
      "Shape: 5 Rotation: 2\n"
     ]
    },
    {
     "data": {
      "image/png": "[encoded data removed]",
      "text/plain": [
       "<Figure size 288x288 with 1 Axes>"
      ]
     },
     "metadata": {},
     "output_type": "display_data"
    },
    {
     "name": "stdout",
     "output_type": "stream",
     "text": [
      "Shape: 5 Rotation: 3\n"
     ]
    },
    {
     "data": {
      "image/png": "[encoded data removed]",
      "text/plain": [
       "<Figure size 288x288 with 1 Axes>"
      ]
     },
     "metadata": {},
     "output_type": "display_data"
    },
    {
     "name": "stdout",
     "output_type": "stream",
     "text": [
      "Shape: 6 Rotation: 0\n"
     ]
    },
    {
     "data": {
      "image/png": "[encoded data removed]",
      "text/plain": [
       "<Figure size 288x288 with 1 Axes>"
      ]
     },
     "metadata": {},
     "output_type": "display_data"
    },
    {
     "name": "stdout",
     "output_type": "stream",
     "text": [
      "Shape: 6 Rotation: 1\n"
     ]
    },
    {
     "data": {
      "image/png": "[encoded data removed]",
      "text/plain": [
       "<Figure size 288x288 with 1 Axes>"
      ]
     },
     "metadata": {},
     "output_type": "display_data"
    },
    {
     "name": "stdout",
     "output_type": "stream",
     "text": [
      "Shape: 6 Rotation: 2\n"
     ]
    },
    {
     "data": {
      "image/png": "[encoded data removed]",
      "text/plain": [
       "<Figure size 288x288 with 1 Axes>"
      ]
     },
     "metadata": {},
     "output_type": "display_data"
    },
    {
     "name": "stdout",
     "output_type": "stream",
     "text": [
      "Shape: 6 Rotation: 3\n"
     ]
    },
    {
     "data": {
      "image/png": "[encoded data removed]",
      "text/plain": [
       "<Figure size 288x288 with 1 Axes>"
      ]
     },
     "metadata": {},
     "output_type": "display_data"
    }
   ],
   "source": [
    "# Test wheter all the shapes are correct and rotate correctly.\n",
    "t=Tetris()\n",
    "for s in range(7):\n",
    "    b=Block(s)\n",
    "    b.posX = 2\n",
    "    b.posY = 2\n",
    "    for r in range(4):\n",
    "        b.rotation = r\n",
    "        t.field=np.zeros((5,5))\n",
    "        t.block=b\n",
    "        print('Shape:',s,'Rotation:',r)\n",
    "        t.draw()  \n"
   ]
  },
  {
   "cell_type": "code",
   "execution_count": null,
   "metadata": {},
   "outputs": [],
   "source": []
  },
  {
   "cell_type": "code",
   "execution_count": null,
   "metadata": {},
   "outputs": [],
   "source": []
  },
  {
   "cell_type": "code",
   "execution_count": 7,
   "metadata": {},
   "outputs": [
    {
     "ename": "ModuleNotFoundError",
     "evalue": "No module named 'tensorflow'",
     "output_type": "error",
     "traceback": [
      "\u001b[1;31m---------------------------------------------------------------------------\u001b[0m",
      "\u001b[1;31mModuleNotFoundError\u001b[0m                       Traceback (most recent call last)",
      "\u001b[1;32m<ipython-input-7-25b92e4d5dec>\u001b[0m in \u001b[0;36m<module>\u001b[1;34m()\u001b[0m\n\u001b[1;32m----> 1\u001b[1;33m \u001b[1;32mimport\u001b[0m \u001b[0mtensorflow\u001b[0m \u001b[1;32mas\u001b[0m \u001b[0mtf\u001b[0m\u001b[1;33m\u001b[0m\u001b[0m\n\u001b[0m\u001b[0;32m      2\u001b[0m \u001b[0mhello\u001b[0m \u001b[1;33m=\u001b[0m \u001b[0mtf\u001b[0m\u001b[1;33m.\u001b[0m\u001b[0mconstant\u001b[0m\u001b[1;33m(\u001b[0m\u001b[1;34m'Hello, TensorFlow!'\u001b[0m\u001b[1;33m)\u001b[0m\u001b[1;33m\u001b[0m\u001b[0m\n\u001b[0;32m      3\u001b[0m \u001b[0msess\u001b[0m \u001b[1;33m=\u001b[0m \u001b[0mtf\u001b[0m\u001b[1;33m.\u001b[0m\u001b[0mSession\u001b[0m\u001b[1;33m(\u001b[0m\u001b[1;33m)\u001b[0m\u001b[1;33m\u001b[0m\u001b[0m\n\u001b[0;32m      4\u001b[0m \u001b[0mprint\u001b[0m\u001b[1;33m(\u001b[0m\u001b[0msess\u001b[0m\u001b[1;33m.\u001b[0m\u001b[0mrun\u001b[0m\u001b[1;33m(\u001b[0m\u001b[0mhello\u001b[0m\u001b[1;33m)\u001b[0m\u001b[1;33m)\u001b[0m\u001b[1;33m\u001b[0m\u001b[0m\n",
      "\u001b[1;31mModuleNotFoundError\u001b[0m: No module named 'tensorflow'"
     ]
    }
   ],
   "source": [
    "# I tried installing this but failed. :/\n",
    "import tensorflow as tf\n",
    ">>> hello = tf.constant('Hello, TensorFlow!')\n",
    ">>> sess = tf.Session()\n",
    ">>> print(sess.run(hello))\n"
   ]
  },
  {
   "cell_type": "code",
   "execution_count": null,
   "metadata": {},
   "outputs": [],
   "source": []
  }
 ],
 "metadata": {
  "kernelspec": {
   "display_name": "Python 3",
   "language": "python",
   "name": "python3"
  },
  "language_info": {
   "codemirror_mode": {
    "name": "ipython",
    "version": 3
   },
   "file_extension": ".py",
   "mimetype": "text/x-python",
   "name": "python",
   "nbconvert_exporter": "python",
   "pygments_lexer": "ipython3",
   "version": "3.6.5"
  }
 },
 "nbformat": 4,
 "nbformat_minor": 2
}
